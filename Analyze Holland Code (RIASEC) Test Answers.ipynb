{
 "cells": [
  {
   "cell_type": "markdown",
   "metadata": {},
   "source": [
    "http://openpsychometrics.org/_rawdata/RIASEC_data12Dec2018.zip"
   ]
  },
  {
   "cell_type": "code",
   "execution_count": 1,
   "metadata": {},
   "outputs": [],
   "source": [
    "import pandas as pd"
   ]
  },
  {
   "cell_type": "code",
   "execution_count": 3,
   "metadata": {},
   "outputs": [
    {
     "name": "stdout",
     "output_type": "stream",
     "text": [
      "R1\tR2\tR3\tR4\tR5\tR6\tR7\tR8\tI1\tI2\tI3\tI4\tI5\tI6\tI7\tI8\tA1\tA2\tA3\tA4\tA5\tA6\tA7\tA8\tS1\tS2\tS3\tS4\tS5\tS6\tS7\tS8\tE1\tE2\tE3\tE4\tE5\tE6\tE7\tE8\tC1\tC2\tC3\tC4\tC5\tC6\tC7\tC8\tintroelapse\ttestelapse\tsurveyelapse\tTIPI1\tTIPI2\tTIPI3\tTIPI4\tTIPI5\tTIPI6\tTIPI7\tTIPI8\tTIPI9\tTIPI10\tVCL1\tVCL2\tVCL3\tVCL4\tVCL5\tVCL6\tVCL7\tVCL8\tVCL9\tVCL10\tVCL11\tVCL12\tVCL13\tVCL14\tVCL15\tVCL16\teducation\turban\tgender\tengnat\tage\thand\treligion\torientation\trace\tvoted\tmarried\tfamilysize\tuniqueNetworkLocation\tcountry\tsource\tmajor\t\r\n",
      "3\t4\t3\t1\t1\t4\t1\t3\t5\t5\t4\t3\t4\t5\t4\t3\t5\t4\t1\t2\t4\t5\t2\t4\t3\t5\t5\t4\t5\t5\t5\t5\t2\t1\t4\t1\t2\t2\t1\t3\t1\t3\t1\t1\t1\t3\t1\t1\t3\t110\t109\t5\t4\t2\t3\t2\t7\t5\t6\t6\t5\t1\t1\t1\t1\t1\t0\t0\t0\t0\t1\t0\t0\t1\t1\t1\t1\t2\t2\t1\t1\t14\t1\t7\t1\t1\t2\t1\t1\t1\tUS\t2\t\t\r\n",
      "1\t1\t2\t4\t1\t2\t2\t1\t5\t5\t5\t4\t4\t4\t4\t4\t2\t1\t4\t2\t1\t3\t4\t2\t2\t3\t4\t3\t4\t2\t3\t1\t1\t1\t1\t1\t1\t1\t1\t3\t1\t1\t2\t1\t1\t2\t1\t1\t25\t236\t367\t5\t5\t7\t4\t7\t6\t6\t4\t6\t1\t1\t1\t1\t1\t1\t0\t1\t0\t0\t1\t0\t0\t1\t1\t1\t1\t2\t2\t1\t1\t29\t1\t7\t3\t4\t1\t2\t3\t1\tUS\t1\tNursing\t\r\n",
      "2\t1\t1\t1\t1\t1\t1\t1\t4\t1\t1\t1\t1\t1\t1\t1\t1\t1\t1\t2\t1\t1\t3\t1\t3\t1\t5\t3\t5\t5\t4\t4\t1\t3\t3\t5\t1\t4\t4\t3\t1\t3\t2\t2\t1\t2\t4\t1\t29\t242\t294\t6\t4\t3\t7\t5\t1\t7\t1\t5\t3\t1\t1\t0\t1\t1\t0\t0\t0\t0\t1\t0\t0\t0\t0\t1\t1\t2\t1\t2\t1\t23\t1\t7\t1\t4\t2\t1\t1\t1\tUS\t1\t\t\r\n",
      "3\t1\t1\t2\t2\t2\t2\t2\t4\t1\t2\t4\t3\t2\t3\t2\t5\t2\t4\t5\t1\t4\t4\t2\t4\t2\t3\t3\t2\t1\t3\t2\t5\t4\t3\t2\t3\t3\t2\t3\t3\t2\t3\t3\t2\t2\t2\t2\t6\t466\t414\t5\t2\t7\t7\t5\t7\t6\t2\t3\t6\t1\t1\t0\t1\t1\t0\t1\t0\t0\t1\t0\t0\t0\t0\t1\t1\t1\t3\t2\t2\t17\t1\t0\t1\t1\t2\t1\t1\t1\tCN\t0\t\t\r\n"
     ]
    }
   ],
   "source": [
    "!head -n5 data.csv"
   ]
  },
  {
   "cell_type": "code",
   "execution_count": 4,
   "metadata": {},
   "outputs": [
    {
     "name": "stderr",
     "output_type": "stream",
     "text": [
      "/home/ch1/anaconda3/envs/for_github/lib/python3.7/site-packages/IPython/core/interactiveshell.py:3058: DtypeWarning: Columns (93) have mixed types. Specify dtype option on import or set low_memory=False.\n",
      "  interactivity=interactivity, compiler=compiler, result=result)\n"
     ]
    }
   ],
   "source": [
    "df = pd.read_csv('./data.csv', delimiter='\\t')"
   ]
  },
  {
   "cell_type": "code",
   "execution_count": 6,
   "metadata": {},
   "outputs": [
    {
     "data": {
      "text/html": [
       "<div>\n",
       "<style scoped>\n",
       "    .dataframe tbody tr th:only-of-type {\n",
       "        vertical-align: middle;\n",
       "    }\n",
       "\n",
       "    .dataframe tbody tr th {\n",
       "        vertical-align: top;\n",
       "    }\n",
       "\n",
       "    .dataframe thead th {\n",
       "        text-align: right;\n",
       "    }\n",
       "</style>\n",
       "<table border=\"1\" class=\"dataframe\">\n",
       "  <thead>\n",
       "    <tr style=\"text-align: right;\">\n",
       "      <th></th>\n",
       "      <th>0</th>\n",
       "      <th>1</th>\n",
       "    </tr>\n",
       "  </thead>\n",
       "  <tbody>\n",
       "    <tr>\n",
       "      <th>R1</th>\n",
       "      <td>3</td>\n",
       "      <td>1</td>\n",
       "    </tr>\n",
       "    <tr>\n",
       "      <th>R2</th>\n",
       "      <td>4</td>\n",
       "      <td>1</td>\n",
       "    </tr>\n",
       "    <tr>\n",
       "      <th>R3</th>\n",
       "      <td>3</td>\n",
       "      <td>2</td>\n",
       "    </tr>\n",
       "    <tr>\n",
       "      <th>R4</th>\n",
       "      <td>1</td>\n",
       "      <td>4</td>\n",
       "    </tr>\n",
       "    <tr>\n",
       "      <th>R5</th>\n",
       "      <td>1</td>\n",
       "      <td>1</td>\n",
       "    </tr>\n",
       "    <tr>\n",
       "      <th>R6</th>\n",
       "      <td>4</td>\n",
       "      <td>2</td>\n",
       "    </tr>\n",
       "    <tr>\n",
       "      <th>R7</th>\n",
       "      <td>1</td>\n",
       "      <td>2</td>\n",
       "    </tr>\n",
       "    <tr>\n",
       "      <th>R8</th>\n",
       "      <td>3</td>\n",
       "      <td>1</td>\n",
       "    </tr>\n",
       "    <tr>\n",
       "      <th>I1</th>\n",
       "      <td>5</td>\n",
       "      <td>5</td>\n",
       "    </tr>\n",
       "    <tr>\n",
       "      <th>I2</th>\n",
       "      <td>5</td>\n",
       "      <td>5</td>\n",
       "    </tr>\n",
       "    <tr>\n",
       "      <th>I3</th>\n",
       "      <td>4</td>\n",
       "      <td>5</td>\n",
       "    </tr>\n",
       "    <tr>\n",
       "      <th>I4</th>\n",
       "      <td>3</td>\n",
       "      <td>4</td>\n",
       "    </tr>\n",
       "    <tr>\n",
       "      <th>I5</th>\n",
       "      <td>4</td>\n",
       "      <td>4</td>\n",
       "    </tr>\n",
       "    <tr>\n",
       "      <th>I6</th>\n",
       "      <td>5</td>\n",
       "      <td>4</td>\n",
       "    </tr>\n",
       "    <tr>\n",
       "      <th>I7</th>\n",
       "      <td>4</td>\n",
       "      <td>4</td>\n",
       "    </tr>\n",
       "    <tr>\n",
       "      <th>I8</th>\n",
       "      <td>3</td>\n",
       "      <td>4</td>\n",
       "    </tr>\n",
       "    <tr>\n",
       "      <th>A1</th>\n",
       "      <td>5</td>\n",
       "      <td>2</td>\n",
       "    </tr>\n",
       "    <tr>\n",
       "      <th>A2</th>\n",
       "      <td>4</td>\n",
       "      <td>1</td>\n",
       "    </tr>\n",
       "    <tr>\n",
       "      <th>A3</th>\n",
       "      <td>1</td>\n",
       "      <td>4</td>\n",
       "    </tr>\n",
       "    <tr>\n",
       "      <th>A4</th>\n",
       "      <td>2</td>\n",
       "      <td>2</td>\n",
       "    </tr>\n",
       "    <tr>\n",
       "      <th>A5</th>\n",
       "      <td>4</td>\n",
       "      <td>1</td>\n",
       "    </tr>\n",
       "    <tr>\n",
       "      <th>A6</th>\n",
       "      <td>5</td>\n",
       "      <td>3</td>\n",
       "    </tr>\n",
       "    <tr>\n",
       "      <th>A7</th>\n",
       "      <td>2</td>\n",
       "      <td>4</td>\n",
       "    </tr>\n",
       "    <tr>\n",
       "      <th>A8</th>\n",
       "      <td>4</td>\n",
       "      <td>2</td>\n",
       "    </tr>\n",
       "    <tr>\n",
       "      <th>S1</th>\n",
       "      <td>3</td>\n",
       "      <td>2</td>\n",
       "    </tr>\n",
       "    <tr>\n",
       "      <th>S2</th>\n",
       "      <td>5</td>\n",
       "      <td>3</td>\n",
       "    </tr>\n",
       "    <tr>\n",
       "      <th>S3</th>\n",
       "      <td>5</td>\n",
       "      <td>4</td>\n",
       "    </tr>\n",
       "    <tr>\n",
       "      <th>S4</th>\n",
       "      <td>4</td>\n",
       "      <td>3</td>\n",
       "    </tr>\n",
       "    <tr>\n",
       "      <th>S5</th>\n",
       "      <td>5</td>\n",
       "      <td>4</td>\n",
       "    </tr>\n",
       "    <tr>\n",
       "      <th>S6</th>\n",
       "      <td>5</td>\n",
       "      <td>2</td>\n",
       "    </tr>\n",
       "    <tr>\n",
       "      <th>...</th>\n",
       "      <td>...</td>\n",
       "      <td>...</td>\n",
       "    </tr>\n",
       "    <tr>\n",
       "      <th>VCL4</th>\n",
       "      <td>1</td>\n",
       "      <td>1</td>\n",
       "    </tr>\n",
       "    <tr>\n",
       "      <th>VCL5</th>\n",
       "      <td>1</td>\n",
       "      <td>1</td>\n",
       "    </tr>\n",
       "    <tr>\n",
       "      <th>VCL6</th>\n",
       "      <td>0</td>\n",
       "      <td>0</td>\n",
       "    </tr>\n",
       "    <tr>\n",
       "      <th>VCL7</th>\n",
       "      <td>0</td>\n",
       "      <td>1</td>\n",
       "    </tr>\n",
       "    <tr>\n",
       "      <th>VCL8</th>\n",
       "      <td>0</td>\n",
       "      <td>0</td>\n",
       "    </tr>\n",
       "    <tr>\n",
       "      <th>VCL9</th>\n",
       "      <td>0</td>\n",
       "      <td>0</td>\n",
       "    </tr>\n",
       "    <tr>\n",
       "      <th>VCL10</th>\n",
       "      <td>1</td>\n",
       "      <td>1</td>\n",
       "    </tr>\n",
       "    <tr>\n",
       "      <th>VCL11</th>\n",
       "      <td>0</td>\n",
       "      <td>0</td>\n",
       "    </tr>\n",
       "    <tr>\n",
       "      <th>VCL12</th>\n",
       "      <td>0</td>\n",
       "      <td>0</td>\n",
       "    </tr>\n",
       "    <tr>\n",
       "      <th>VCL13</th>\n",
       "      <td>1</td>\n",
       "      <td>1</td>\n",
       "    </tr>\n",
       "    <tr>\n",
       "      <th>VCL14</th>\n",
       "      <td>1</td>\n",
       "      <td>1</td>\n",
       "    </tr>\n",
       "    <tr>\n",
       "      <th>VCL15</th>\n",
       "      <td>1</td>\n",
       "      <td>1</td>\n",
       "    </tr>\n",
       "    <tr>\n",
       "      <th>VCL16</th>\n",
       "      <td>1</td>\n",
       "      <td>1</td>\n",
       "    </tr>\n",
       "    <tr>\n",
       "      <th>education</th>\n",
       "      <td>2</td>\n",
       "      <td>2</td>\n",
       "    </tr>\n",
       "    <tr>\n",
       "      <th>urban</th>\n",
       "      <td>2</td>\n",
       "      <td>2</td>\n",
       "    </tr>\n",
       "    <tr>\n",
       "      <th>gender</th>\n",
       "      <td>1</td>\n",
       "      <td>1</td>\n",
       "    </tr>\n",
       "    <tr>\n",
       "      <th>engnat</th>\n",
       "      <td>1</td>\n",
       "      <td>1</td>\n",
       "    </tr>\n",
       "    <tr>\n",
       "      <th>age</th>\n",
       "      <td>14</td>\n",
       "      <td>29</td>\n",
       "    </tr>\n",
       "    <tr>\n",
       "      <th>hand</th>\n",
       "      <td>1</td>\n",
       "      <td>1</td>\n",
       "    </tr>\n",
       "    <tr>\n",
       "      <th>religion</th>\n",
       "      <td>7</td>\n",
       "      <td>7</td>\n",
       "    </tr>\n",
       "    <tr>\n",
       "      <th>orientation</th>\n",
       "      <td>1</td>\n",
       "      <td>3</td>\n",
       "    </tr>\n",
       "    <tr>\n",
       "      <th>race</th>\n",
       "      <td>1</td>\n",
       "      <td>4</td>\n",
       "    </tr>\n",
       "    <tr>\n",
       "      <th>voted</th>\n",
       "      <td>2</td>\n",
       "      <td>1</td>\n",
       "    </tr>\n",
       "    <tr>\n",
       "      <th>married</th>\n",
       "      <td>1</td>\n",
       "      <td>2</td>\n",
       "    </tr>\n",
       "    <tr>\n",
       "      <th>familysize</th>\n",
       "      <td>1</td>\n",
       "      <td>3</td>\n",
       "    </tr>\n",
       "    <tr>\n",
       "      <th>uniqueNetworkLocation</th>\n",
       "      <td>1</td>\n",
       "      <td>1</td>\n",
       "    </tr>\n",
       "    <tr>\n",
       "      <th>country</th>\n",
       "      <td>US</td>\n",
       "      <td>US</td>\n",
       "    </tr>\n",
       "    <tr>\n",
       "      <th>source</th>\n",
       "      <td>2</td>\n",
       "      <td>1</td>\n",
       "    </tr>\n",
       "    <tr>\n",
       "      <th>major</th>\n",
       "      <td>NaN</td>\n",
       "      <td>Nursing</td>\n",
       "    </tr>\n",
       "    <tr>\n",
       "      <th>Unnamed: 93</th>\n",
       "      <td>NaN</td>\n",
       "      <td>NaN</td>\n",
       "    </tr>\n",
       "  </tbody>\n",
       "</table>\n",
       "<p>94 rows × 2 columns</p>\n",
       "</div>"
      ],
      "text/plain": [
       "                         0        1\n",
       "R1                       3        1\n",
       "R2                       4        1\n",
       "R3                       3        2\n",
       "R4                       1        4\n",
       "R5                       1        1\n",
       "...                    ...      ...\n",
       "uniqueNetworkLocation    1        1\n",
       "country                 US       US\n",
       "source                   2        1\n",
       "major                  NaN  Nursing\n",
       "Unnamed: 93            NaN      NaN\n",
       "\n",
       "[94 rows x 2 columns]"
      ]
     },
     "execution_count": 6,
     "metadata": {},
     "output_type": "execute_result"
    }
   ],
   "source": [
    "df.head(2).T"
   ]
  },
  {
   "cell_type": "code",
   "execution_count": 7,
   "metadata": {},
   "outputs": [
    {
     "data": {
      "text/plain": [
       "Index(['R1', 'R2', 'R3', 'R4', 'R5', 'R6', 'R7', 'R8', 'I1', 'I2', 'I3', 'I4',\n",
       "       'I5', 'I6', 'I7', 'I8', 'A1', 'A2', 'A3', 'A4', 'A5', 'A6', 'A7', 'A8',\n",
       "       'S1', 'S2', 'S3', 'S4', 'S5', 'S6', 'S7', 'S8', 'E1', 'E2', 'E3', 'E4',\n",
       "       'E5', 'E6', 'E7', 'E8', 'C1', 'C2', 'C3', 'C4', 'C5', 'C6', 'C7', 'C8',\n",
       "       'introelapse', 'testelapse', 'surveyelapse', 'TIPI1', 'TIPI2', 'TIPI3',\n",
       "       'TIPI4', 'TIPI5', 'TIPI6', 'TIPI7', 'TIPI8', 'TIPI9', 'TIPI10', 'VCL1',\n",
       "       'VCL2', 'VCL3', 'VCL4', 'VCL5', 'VCL6', 'VCL7', 'VCL8', 'VCL9', 'VCL10',\n",
       "       'VCL11', 'VCL12', 'VCL13', 'VCL14', 'VCL15', 'VCL16', 'education',\n",
       "       'urban', 'gender', 'engnat', 'age', 'hand', 'religion', 'orientation',\n",
       "       'race', 'voted', 'married', 'familysize', 'uniqueNetworkLocation',\n",
       "       'country', 'source', 'major', 'Unnamed: 93'],\n",
       "      dtype='object')"
      ]
     },
     "execution_count": 7,
     "metadata": {},
     "output_type": "execute_result"
    }
   ],
   "source": [
    "df.columns"
   ]
  },
  {
   "cell_type": "code",
   "execution_count": 8,
   "metadata": {},
   "outputs": [
    {
     "name": "stdout",
     "output_type": "stream",
     "text": [
      "<class 'pandas.core.frame.DataFrame'>\n",
      "RangeIndex: 145828 entries, 0 to 145827\n",
      "Data columns (total 94 columns):\n",
      "R1                       145828 non-null int64\n",
      "R2                       145828 non-null int64\n",
      "R3                       145828 non-null int64\n",
      "R4                       145828 non-null int64\n",
      "R5                       145828 non-null int64\n",
      "R6                       145828 non-null int64\n",
      "R7                       145828 non-null int64\n",
      "R8                       145828 non-null int64\n",
      "I1                       145828 non-null int64\n",
      "I2                       145828 non-null int64\n",
      "I3                       145828 non-null int64\n",
      "I4                       145828 non-null int64\n",
      "I5                       145828 non-null int64\n",
      "I6                       145828 non-null int64\n",
      "I7                       145828 non-null int64\n",
      "I8                       145828 non-null int64\n",
      "A1                       145828 non-null int64\n",
      "A2                       145828 non-null int64\n",
      "A3                       145828 non-null int64\n",
      "A4                       145828 non-null int64\n",
      "A5                       145828 non-null int64\n",
      "A6                       145828 non-null int64\n",
      "A7                       145828 non-null int64\n",
      "A8                       145828 non-null int64\n",
      "S1                       145828 non-null int64\n",
      "S2                       145828 non-null int64\n",
      "S3                       145828 non-null int64\n",
      "S4                       145828 non-null int64\n",
      "S5                       145828 non-null int64\n",
      "S6                       145828 non-null int64\n",
      "S7                       145828 non-null int64\n",
      "S8                       145828 non-null int64\n",
      "E1                       145828 non-null int64\n",
      "E2                       145828 non-null int64\n",
      "E3                       145828 non-null int64\n",
      "E4                       145828 non-null int64\n",
      "E5                       145828 non-null int64\n",
      "E6                       145828 non-null int64\n",
      "E7                       145828 non-null int64\n",
      "E8                       145828 non-null int64\n",
      "C1                       145828 non-null int64\n",
      "C2                       145828 non-null int64\n",
      "C3                       145828 non-null int64\n",
      "C4                       145828 non-null int64\n",
      "C5                       145828 non-null int64\n",
      "C6                       145828 non-null int64\n",
      "C7                       145828 non-null int64\n",
      "C8                       145828 non-null int64\n",
      "introelapse              145828 non-null int64\n",
      "testelapse               145828 non-null int64\n",
      "surveyelapse             145828 non-null int64\n",
      "TIPI1                    145828 non-null int64\n",
      "TIPI2                    145828 non-null int64\n",
      "TIPI3                    145828 non-null int64\n",
      "TIPI4                    145828 non-null int64\n",
      "TIPI5                    145828 non-null int64\n",
      "TIPI6                    145828 non-null int64\n",
      "TIPI7                    145828 non-null int64\n",
      "TIPI8                    145828 non-null int64\n",
      "TIPI9                    145828 non-null int64\n",
      "TIPI10                   145828 non-null int64\n",
      "VCL1                     145828 non-null int64\n",
      "VCL2                     145828 non-null int64\n",
      "VCL3                     145828 non-null int64\n",
      "VCL4                     145828 non-null int64\n",
      "VCL5                     145828 non-null int64\n",
      "VCL6                     145828 non-null int64\n",
      "VCL7                     145828 non-null int64\n",
      "VCL8                     145828 non-null int64\n",
      "VCL9                     145828 non-null int64\n",
      "VCL10                    145828 non-null int64\n",
      "VCL11                    145828 non-null int64\n",
      "VCL12                    145828 non-null int64\n",
      "VCL13                    145828 non-null int64\n",
      "VCL14                    145828 non-null int64\n",
      "VCL15                    145828 non-null int64\n",
      "VCL16                    145828 non-null int64\n",
      "education                145828 non-null int64\n",
      "urban                    145828 non-null int64\n",
      "gender                   145828 non-null int64\n",
      "engnat                   145828 non-null int64\n",
      "age                      145828 non-null int64\n",
      "hand                     145828 non-null int64\n",
      "religion                 145828 non-null int64\n",
      "orientation              145828 non-null int64\n",
      "race                     145828 non-null int64\n",
      "voted                    145828 non-null int64\n",
      "married                  145828 non-null int64\n",
      "familysize               145828 non-null int64\n",
      "uniqueNetworkLocation    145828 non-null int64\n",
      "country                  145816 non-null object\n",
      "source                   145828 non-null int64\n",
      "major                    93017 non-null object\n",
      "Unnamed: 93              1 non-null object\n",
      "dtypes: int64(91), object(3)\n",
      "memory usage: 104.6+ MB\n"
     ]
    }
   ],
   "source": [
    "df.info()"
   ]
  },
  {
   "cell_type": "markdown",
   "metadata": {},
   "source": [
    "1=Dislike, 3=Neutral, 5=Enjoy\n",
    "R1\tTest the quality of parts before shipment\n",
    "\n",
    "TIPI1\tExtraverted, enthusiastic.\n",
    "TIPI2\tCritical, quarrelsome.\n",
    "TIPI3\tDependable, self-disciplined.\n",
    "TIPI4\tAnxious, easily upset.\n",
    "TIPI5\tOpen to new experiences, complex.\n",
    "TIPI6\tReserved, quiet.\n",
    "TIPI7\tSympathetic, warm.\n",
    "TIPI8\tDisorganized, careless.\n",
    "TIPI9\tCalm, emotionally stable.\n",
    "TIPI10\tConventional, uncreative.\n",
    "\n",
    "The TIPI items were rated \"I see myself as:\" _____ such that\n",
    "\n",
    "1 = Disagree strongly\n",
    "2 = Disagree moderately\n",
    "3 = Disagree a little\n",
    "4 = Neither agree nor disagree\n",
    "5 = Agree a little\n",
    "6 = Agree moderately\n",
    "7 = Agree strongly"
   ]
  },
  {
   "cell_type": "code",
   "execution_count": 29,
   "metadata": {},
   "outputs": [
    {
     "data": {
      "text/html": [
       "<div>\n",
       "<style scoped>\n",
       "    .dataframe tbody tr th:only-of-type {\n",
       "        vertical-align: middle;\n",
       "    }\n",
       "\n",
       "    .dataframe tbody tr th {\n",
       "        vertical-align: top;\n",
       "    }\n",
       "\n",
       "    .dataframe thead th {\n",
       "        text-align: right;\n",
       "    }\n",
       "</style>\n",
       "<table border=\"1\" class=\"dataframe\">\n",
       "  <thead>\n",
       "    <tr style=\"text-align: right;\">\n",
       "      <th></th>\n",
       "      <th>TIPI1</th>\n",
       "      <th>TIPI2</th>\n",
       "      <th>TIPI3</th>\n",
       "      <th>TIPI4</th>\n",
       "      <th>TIPI5</th>\n",
       "      <th>TIPI6</th>\n",
       "      <th>TIPI7</th>\n",
       "      <th>TIPI8</th>\n",
       "      <th>TIPI9</th>\n",
       "      <th>TIPI10</th>\n",
       "    </tr>\n",
       "  </thead>\n",
       "  <tbody>\n",
       "    <tr>\n",
       "      <th>7</th>\n",
       "      <td>7</td>\n",
       "      <td>6</td>\n",
       "      <td>5</td>\n",
       "      <td>4</td>\n",
       "      <td>6</td>\n",
       "      <td>3</td>\n",
       "      <td>7</td>\n",
       "      <td>5</td>\n",
       "      <td>5</td>\n",
       "      <td>3</td>\n",
       "    </tr>\n",
       "    <tr>\n",
       "      <th>12</th>\n",
       "      <td>6</td>\n",
       "      <td>3</td>\n",
       "      <td>7</td>\n",
       "      <td>5</td>\n",
       "      <td>7</td>\n",
       "      <td>1</td>\n",
       "      <td>7</td>\n",
       "      <td>1</td>\n",
       "      <td>6</td>\n",
       "      <td>1</td>\n",
       "    </tr>\n",
       "    <tr>\n",
       "      <th>26</th>\n",
       "      <td>7</td>\n",
       "      <td>6</td>\n",
       "      <td>7</td>\n",
       "      <td>2</td>\n",
       "      <td>7</td>\n",
       "      <td>6</td>\n",
       "      <td>7</td>\n",
       "      <td>2</td>\n",
       "      <td>7</td>\n",
       "      <td>1</td>\n",
       "    </tr>\n",
       "    <tr>\n",
       "      <th>37</th>\n",
       "      <td>1</td>\n",
       "      <td>7</td>\n",
       "      <td>5</td>\n",
       "      <td>2</td>\n",
       "      <td>7</td>\n",
       "      <td>7</td>\n",
       "      <td>2</td>\n",
       "      <td>2</td>\n",
       "      <td>7</td>\n",
       "      <td>7</td>\n",
       "    </tr>\n",
       "    <tr>\n",
       "      <th>44</th>\n",
       "      <td>5</td>\n",
       "      <td>3</td>\n",
       "      <td>6</td>\n",
       "      <td>2</td>\n",
       "      <td>6</td>\n",
       "      <td>4</td>\n",
       "      <td>6</td>\n",
       "      <td>5</td>\n",
       "      <td>6</td>\n",
       "      <td>2</td>\n",
       "    </tr>\n",
       "  </tbody>\n",
       "</table>\n",
       "</div>"
      ],
      "text/plain": [
       "    TIPI1  TIPI2  TIPI3  TIPI4  TIPI5  TIPI6  TIPI7  TIPI8  TIPI9  TIPI10\n",
       "7       7      6      5      4      6      3      7      5      5       3\n",
       "12      6      3      7      5      7      1      7      1      6       1\n",
       "26      7      6      7      2      7      6      7      2      7       1\n",
       "37      1      7      5      2      7      7      2      2      7       7\n",
       "44      5      3      6      2      6      4      6      5      6       2"
      ]
     },
     "execution_count": 29,
     "metadata": {},
     "output_type": "execute_result"
    }
   ],
   "source": [
    "df.loc[df['R1']==5,['TIPI1', 'TIPI2', 'TIPI3', 'TIPI4', 'TIPI5', 'TIPI6', 'TIPI7', 'TIPI8', 'TIPI9', 'TIPI10']].head()"
   ]
  },
  {
   "cell_type": "code",
   "execution_count": 34,
   "metadata": {},
   "outputs": [],
   "source": [
    "df['Target_R1_5']=(df['R1']==5)"
   ]
  },
  {
   "cell_type": "code",
   "execution_count": 35,
   "metadata": {},
   "outputs": [
    {
     "data": {
      "text/plain": [
       "False    131820\n",
       "True      14008\n",
       "Name: Target_R1_5, dtype: int64"
      ]
     },
     "execution_count": 35,
     "metadata": {},
     "output_type": "execute_result"
    }
   ],
   "source": [
    "df['Target_R1_5'].value_counts()"
   ]
  },
  {
   "cell_type": "code",
   "execution_count": 36,
   "metadata": {},
   "outputs": [],
   "source": [
    "df['Target_R1_5'] = df['Target_R1_5'].astype(int)"
   ]
  },
  {
   "cell_type": "code",
   "execution_count": 37,
   "metadata": {},
   "outputs": [
    {
     "data": {
      "text/plain": [
       "0    0\n",
       "1    0\n",
       "2    0\n",
       "3    0\n",
       "4    0\n",
       "Name: Target_R1_5, dtype: int64"
      ]
     },
     "execution_count": 37,
     "metadata": {},
     "output_type": "execute_result"
    }
   ],
   "source": [
    "df['Target_R1_5'].head()"
   ]
  },
  {
   "cell_type": "code",
   "execution_count": 38,
   "metadata": {},
   "outputs": [
    {
     "data": {
      "text/plain": [
       "0    131820\n",
       "1     14008\n",
       "Name: Target_R1_5, dtype: int64"
      ]
     },
     "execution_count": 38,
     "metadata": {},
     "output_type": "execute_result"
    }
   ],
   "source": [
    "df['Target_R1_5'].value_counts()"
   ]
  },
  {
   "cell_type": "code",
   "execution_count": 20,
   "metadata": {},
   "outputs": [
    {
     "name": "stdout",
     "output_type": "stream",
     "text": [
      "Collecting sklearn\n",
      "  Using cached https://files.pythonhosted.org/packages/1e/7a/dbb3be0ce9bd5c8b7e3d87328e79063f8b263b2b1bfa4774cb1147bfcd3f/sklearn-0.0.tar.gz\n",
      "Collecting scikit-learn (from sklearn)\n",
      "\u001b[?25l  Downloading https://files.pythonhosted.org/packages/9f/c5/e5267eb84994e9a92a2c6a6ee768514f255d036f3c8378acfa694e9f2c99/scikit_learn-0.21.3-cp37-cp37m-manylinux1_x86_64.whl (6.7MB)\n",
      "\u001b[K     |████████████████████████████████| 6.7MB 1.3MB/s eta 0:00:01\n",
      "\u001b[?25hCollecting joblib>=0.11 (from scikit-learn->sklearn)\n",
      "\u001b[?25l  Downloading https://files.pythonhosted.org/packages/cd/c1/50a758e8247561e58cb87305b1e90b171b8c767b15b12a1734001f41d356/joblib-0.13.2-py2.py3-none-any.whl (278kB)\n",
      "\u001b[K     |████████████████████████████████| 286kB 1.9MB/s eta 0:00:01\n",
      "\u001b[?25hRequirement already satisfied: scipy>=0.17.0 in /home/ch1/anaconda3/envs/for_github/lib/python3.7/site-packages (from scikit-learn->sklearn) (1.3.1)\n",
      "Requirement already satisfied: numpy>=1.11.0 in /home/ch1/anaconda3/envs/for_github/lib/python3.7/site-packages (from scikit-learn->sklearn) (1.17.0)\n",
      "Building wheels for collected packages: sklearn\n",
      "  Building wheel for sklearn (setup.py) ... \u001b[?25ldone\n",
      "\u001b[?25h  Created wheel for sklearn: filename=sklearn-0.0-py2.py3-none-any.whl size=1316 sha256=32e46cb72e86a5dd4ad4a113ef6762fc5b56f16aab09364a6d8c6f73556f270c\n",
      "  Stored in directory: /home/ch1/.cache/pip/wheels/76/03/bb/589d421d27431bcd2c6da284d5f2286c8e3b2ea3cf1594c074\n",
      "Successfully built sklearn\n",
      "Installing collected packages: joblib, scikit-learn, sklearn\n",
      "Successfully installed joblib-0.13.2 scikit-learn-0.21.3 sklearn-0.0\n"
     ]
    }
   ],
   "source": [
    "!pip install sklearn"
   ]
  },
  {
   "cell_type": "code",
   "execution_count": 41,
   "metadata": {},
   "outputs": [
    {
     "data": {
      "text/plain": [
       "RFE(estimator=LogisticRegression(C=1.0, class_weight=None, dual=False,\n",
       "                                 fit_intercept=True, intercept_scaling=1,\n",
       "                                 l1_ratio=None, max_iter=100,\n",
       "                                 multi_class='warn', n_jobs=None, penalty='l2',\n",
       "                                 random_state=22, solver='lbfgs', tol=0.0001,\n",
       "                                 verbose=0, warm_start=False),\n",
       "    n_features_to_select=4, step=1, verbose=0)"
      ]
     },
     "execution_count": 41,
     "metadata": {},
     "output_type": "execute_result"
    }
   ],
   "source": [
    "#https://hub.packtpub.com/4-ways-implement-feature-selection-python-machine-learning/\n",
    "from sklearn.linear_model import LogisticRegression\n",
    "from sklearn.feature_selection import RFE\n",
    "X=df[['TIPI1', 'TIPI2', 'TIPI3', 'TIPI4', 'TIPI5', \n",
    "'TIPI6', 'TIPI7', 'TIPI8', 'TIPI9', 'TIPI10']]\n",
    "clf = LogisticRegression(random_state=22, solver='lbfgs').fit(X,\n",
    "df['Target_R1_5'])\n",
    "rfe = RFE(clf, 4)\n",
    "rfe.fit(X, df['Target_R1_5'])"
   ]
  },
  {
   "cell_type": "code",
   "execution_count": 40,
   "metadata": {},
   "outputs": [
    {
     "data": {
      "text/plain": [
       "array([ True, False, False, False,  True,  True, False, False,  True,\n",
       "       False])"
      ]
     },
     "execution_count": 40,
     "metadata": {},
     "output_type": "execute_result"
    }
   ],
   "source": [
    "rfe.support_"
   ]
  },
  {
   "cell_type": "code",
   "execution_count": 25,
   "metadata": {},
   "outputs": [
    {
     "data": {
      "text/plain": [
       "array([1, 5, 2, 6, 1, 1, 3, 4, 1, 7])"
      ]
     },
     "execution_count": 25,
     "metadata": {},
     "output_type": "execute_result"
    }
   ],
   "source": [
    "rfe.ranking_"
   ]
  },
  {
   "cell_type": "markdown",
   "metadata": {},
   "source": [
    "R1\tTest the quality of parts before shipment"
   ]
  },
  {
   "cell_type": "code",
   "execution_count": 27,
   "metadata": {},
   "outputs": [
    {
     "data": {
      "text/plain": [
       "Index(['TIPI1', 'TIPI5', 'TIPI6', 'TIPI9'], dtype='object')"
      ]
     },
     "execution_count": 27,
     "metadata": {},
     "output_type": "execute_result"
    }
   ],
   "source": [
    "X.columns[rfe.ranking_==1]"
   ]
  },
  {
   "cell_type": "markdown",
   "metadata": {},
   "source": [
    "TIPI1\tExtraverted, enthusiastic.\n",
    "TIPI5\tOpen to new experiences, complex.\n",
    "TIPI6\tReserved, quiet.\n",
    "TIPI9\tCalm, emotionally stable."
   ]
  },
  {
   "cell_type": "code",
   "execution_count": 28,
   "metadata": {},
   "outputs": [
    {
     "data": {
      "text/plain": [
       "Index(['TIPI3'], dtype='object')"
      ]
     },
     "execution_count": 28,
     "metadata": {},
     "output_type": "execute_result"
    }
   ],
   "source": [
    "X.columns[rfe.ranking_==2]"
   ]
  },
  {
   "cell_type": "markdown",
   "metadata": {},
   "source": [
    "TIPI3\tDependable, self-disciplined."
   ]
  },
  {
   "cell_type": "markdown",
   "metadata": {},
   "source": [
    "TIPI1\tExtraverted, enthusiastic.\n",
    "TIPI2\tCritical, quarrelsome.\n",
    "TIPI3\tDependable, self-disciplined.\n",
    "TIPI4\tAnxious, easily upset.\n",
    "TIPI5\tOpen to new experiences, complex.\n",
    "TIPI6\tReserved, quiet.\n",
    "TIPI7\tSympathetic, warm.\n",
    "TIPI8\tDisorganized, careless.\n",
    "TIPI9\tCalm, emotionally stable.\n",
    "TIPI10\tConventional, uncreative.\n"
   ]
  },
  {
   "cell_type": "code",
   "execution_count": 50,
   "metadata": {},
   "outputs": [],
   "source": [
    "dict_TIP = {}\n",
    "dict_TIP['TIPI1'] = 'Extraverted, enthusiastic'\n",
    "dict_TIP['TIPI2'] = 'Critical, quarrelsome'\n",
    "dict_TIP['TIPI3'] = 'Dependable, self-disciplined'\n",
    "dict_TIP['TIPI4'] = 'Anxious, easily upset'\n",
    "dict_TIP['TIPI5'] = 'Open to new experiences, complex'\n",
    "dict_TIP['TIPI6'] = 'Reserved, quiet'\n",
    "dict_TIP['TIPI7'] = 'Sympathetic, warm'\n",
    "dict_TIP['TIPI8'] = 'Disorganized, careless'\n",
    "dict_TIP['TIPI9'] = 'Calm, emotionally stable'\n",
    "dict_TIP['TIPI10'] = 'Conventional, uncreative'"
   ]
  },
  {
   "cell_type": "code",
   "execution_count": 61,
   "metadata": {},
   "outputs": [],
   "source": [
    "X=df[['TIPI1', 'TIPI2', 'TIPI3', 'TIPI4', 'TIPI5', \n",
    "    'TIPI6', 'TIPI7', 'TIPI8', 'TIPI9', 'TIPI10']]\n",
    "def analyze(R_column: str):\n",
    "    target_col_str = 'Target_'+ R_column + '_5'\n",
    "    print(target_col_str)\n",
    "    df[target_col_str]=(df[R_column]==5).astype(int) \n",
    "    print(df[target_col_str].value_counts())\n",
    "    clf = LogisticRegression(random_state=22, solver='lbfgs').fit(X,\n",
    "        df[target_col_str])\n",
    "    rfe = RFE(clf, 5)\n",
    "    rfe.fit(X, df[target_col_str])\n",
    "    print(rfe.support_)\n",
    "    print(rfe.ranking_)\n",
    "    print(X.columns[rfe.ranking_==1])\n",
    "    for key in X.columns[rfe.ranking_==1]:\n",
    "        print(key)\n",
    "        print(dict_TIP[key])"
   ]
  },
  {
   "cell_type": "code",
   "execution_count": 62,
   "metadata": {},
   "outputs": [
    {
     "name": "stdout",
     "output_type": "stream",
     "text": [
      "Target_R1_5\n",
      "0    131820\n",
      "1     14008\n",
      "Name: Target_R1_5, dtype: int64\n",
      "[ True False  True False  True  True False False  True False]\n",
      "[1 4 1 5 1 1 2 3 1 6]\n",
      "Index(['TIPI1', 'TIPI3', 'TIPI5', 'TIPI6', 'TIPI9'], dtype='object')\n",
      "TIPI1\n",
      "Extraverted, enthusiastic\n",
      "TIPI3\n",
      "Dependable, self-disciplined\n",
      "TIPI5\n",
      "Open to new experiences, complex\n",
      "TIPI6\n",
      "Reserved, quiet\n",
      "TIPI9\n",
      "Calm, emotionally stable\n"
     ]
    }
   ],
   "source": [
    "#R1\tTest the quality of parts before shipment\n",
    "analyze('R1')"
   ]
  },
  {
   "cell_type": "code",
   "execution_count": 70,
   "metadata": {},
   "outputs": [
    {
     "name": "stdout",
     "output_type": "stream",
     "text": [
      "Target_R8_5\n",
      "0    140134\n",
      "1      5694\n",
      "Name: Target_R8_5, dtype: int64\n",
      "[ True False  True False  True False  True False  True False]\n",
      "[1 5 1 3 1 2 1 6 1 4]\n",
      "Index(['TIPI1', 'TIPI3', 'TIPI5', 'TIPI7', 'TIPI9'], dtype='object')\n",
      "TIPI1\n",
      "Extraverted, enthusiastic\n",
      "TIPI3\n",
      "Dependable, self-disciplined\n",
      "TIPI5\n",
      "Open to new experiences, complex\n",
      "TIPI7\n",
      "Sympathetic, warm\n",
      "TIPI9\n",
      "Calm, emotionally stable\n"
     ]
    }
   ],
   "source": [
    "#R8\tInstall flooring in houses\n",
    "analyze('R8')"
   ]
  },
  {
   "cell_type": "code",
   "execution_count": 63,
   "metadata": {},
   "outputs": [
    {
     "name": "stdout",
     "output_type": "stream",
     "text": [
      "Target_I3_5\n",
      "0    117361\n",
      "1     28467\n",
      "Name: Target_I3_5, dtype: int64\n",
      "[ True False False False  True  True False  True False  True]\n",
      "[1 5 3 2 1 1 4 1 6 1]\n",
      "Index(['TIPI1', 'TIPI5', 'TIPI6', 'TIPI8', 'TIPI10'], dtype='object')\n",
      "TIPI1\n",
      "Extraverted, enthusiastic\n",
      "TIPI5\n",
      "Open to new experiences, complex\n",
      "TIPI6\n",
      "Reserved, quiet\n",
      "TIPI8\n",
      "Disorganized, careless\n",
      "TIPI10\n",
      "Conventional, uncreative\n"
     ]
    }
   ],
   "source": [
    "#I3\tDo research on plants or animals\n",
    "analyze('I3')"
   ]
  },
  {
   "cell_type": "code",
   "execution_count": 64,
   "metadata": {},
   "outputs": [
    {
     "name": "stdout",
     "output_type": "stream",
     "text": [
      "Target_A4_5\n",
      "0    118085\n",
      "1     27743\n",
      "Name: Target_A4_5, dtype: int64\n",
      "[False False False  True  True False  True  True False  True]\n",
      "[3 6 2 1 1 5 1 1 4 1]\n",
      "Index(['TIPI4', 'TIPI5', 'TIPI7', 'TIPI8', 'TIPI10'], dtype='object')\n",
      "TIPI4\n",
      "Anxious, easily upset\n",
      "TIPI5\n",
      "Open to new experiences, complex\n",
      "TIPI7\n",
      "Sympathetic, warm\n",
      "TIPI8\n",
      "Disorganized, careless\n",
      "TIPI10\n",
      "Conventional, uncreative\n"
     ]
    }
   ],
   "source": [
    "#A4\tWrite a song\n",
    "analyze('A4')"
   ]
  },
  {
   "cell_type": "code",
   "execution_count": 65,
   "metadata": {},
   "outputs": [
    {
     "name": "stdout",
     "output_type": "stream",
     "text": [
      "Target_S2_5\n",
      "0    103195\n",
      "1     42633\n",
      "Name: Target_S2_5, dtype: int64\n",
      "[ True  True  True False  True False  True False False False]\n",
      "[1 1 1 4 1 5 1 3 2 6]\n",
      "Index(['TIPI1', 'TIPI2', 'TIPI3', 'TIPI5', 'TIPI7'], dtype='object')\n",
      "TIPI1\n",
      "Extraverted, enthusiastic\n",
      "TIPI2\n",
      "Critical, quarrelsome\n",
      "TIPI3\n",
      "Dependable, self-disciplined\n",
      "TIPI5\n",
      "Open to new experiences, complex\n",
      "TIPI7\n",
      "Sympathetic, warm\n"
     ]
    }
   ],
   "source": [
    "#S2\tDo volunteer work at a non-profit organization\n",
    "analyze('S2')"
   ]
  },
  {
   "cell_type": "code",
   "execution_count": 66,
   "metadata": {},
   "outputs": [
    {
     "name": "stdout",
     "output_type": "stream",
     "text": [
      "Target_S7_5\n",
      "0    113565\n",
      "1     32263\n",
      "Name: Target_S7_5, dtype: int64\n",
      "[ True  True  True False  True False  True False False False]\n",
      "[1 1 1 2 1 6 1 3 5 4]\n",
      "Index(['TIPI1', 'TIPI2', 'TIPI3', 'TIPI5', 'TIPI7'], dtype='object')\n",
      "TIPI1\n",
      "Extraverted, enthusiastic\n",
      "TIPI2\n",
      "Critical, quarrelsome\n",
      "TIPI3\n",
      "Dependable, self-disciplined\n",
      "TIPI5\n",
      "Open to new experiences, complex\n",
      "TIPI7\n",
      "Sympathetic, warm\n"
     ]
    }
   ],
   "source": [
    "#S7\tTeach children how to read\n",
    "analyze('S7')"
   ]
  },
  {
   "cell_type": "code",
   "execution_count": 67,
   "metadata": {},
   "outputs": [
    {
     "name": "stdout",
     "output_type": "stream",
     "text": [
      "Target_E8_5\n",
      "0    128999\n",
      "1     16829\n",
      "Name: Target_E8_5, dtype: int64\n",
      "[ True False False False  True False  True  True False  True]\n",
      "[1 6 5 3 1 2 1 1 4 1]\n",
      "Index(['TIPI1', 'TIPI5', 'TIPI7', 'TIPI8', 'TIPI10'], dtype='object')\n",
      "TIPI1\n",
      "Extraverted, enthusiastic\n",
      "TIPI5\n",
      "Open to new experiences, complex\n",
      "TIPI7\n",
      "Sympathetic, warm\n",
      "TIPI8\n",
      "Disorganized, careless\n",
      "TIPI10\n",
      "Conventional, uncreative\n"
     ]
    }
   ],
   "source": [
    "#E8\tRun a toy store\n",
    "analyze('E8')"
   ]
  },
  {
   "cell_type": "code",
   "execution_count": 68,
   "metadata": {},
   "outputs": [
    {
     "name": "stdout",
     "output_type": "stream",
     "text": [
      "Target_C7_5\n",
      "0    137189\n",
      "1      8639\n",
      "Name: Target_C7_5, dtype: int64\n",
      "[ True False  True False False False False  True  True  True]\n",
      "[1 4 1 5 2 3 6 1 1 1]\n",
      "Index(['TIPI1', 'TIPI3', 'TIPI8', 'TIPI9', 'TIPI10'], dtype='object')\n",
      "TIPI1\n",
      "Extraverted, enthusiastic\n",
      "TIPI3\n",
      "Dependable, self-disciplined\n",
      "TIPI8\n",
      "Disorganized, careless\n",
      "TIPI9\n",
      "Calm, emotionally stable\n",
      "TIPI10\n",
      "Conventional, uncreative\n"
     ]
    }
   ],
   "source": [
    "#C7\tHandle customers' bank transactions\n",
    "analyze('C7')"
   ]
  },
  {
   "cell_type": "code",
   "execution_count": 69,
   "metadata": {},
   "outputs": [
    {
     "name": "stdout",
     "output_type": "stream",
     "text": [
      "Target_C8_5\n",
      "0    136651\n",
      "1      9177\n",
      "Name: Target_C8_5, dtype: int64\n",
      "[ True False False False  True  True False  True False  True]\n",
      "[1 5 3 6 1 1 4 1 2 1]\n",
      "Index(['TIPI1', 'TIPI5', 'TIPI6', 'TIPI8', 'TIPI10'], dtype='object')\n",
      "TIPI1\n",
      "Extraverted, enthusiastic\n",
      "TIPI5\n",
      "Open to new experiences, complex\n",
      "TIPI6\n",
      "Reserved, quiet\n",
      "TIPI8\n",
      "Disorganized, careless\n",
      "TIPI10\n",
      "Conventional, uncreative\n"
     ]
    }
   ],
   "source": [
    "#C8\tKeep shipping and receiving records\n",
    "analyze('C8')"
   ]
  },
  {
   "cell_type": "markdown",
   "metadata": {},
   "source": [
    "Codebook:\n",
    "\n",
    "The following data was collected 2015 - 2018 using an online RIASEC / Holland Code test that internet users would visit to obtain personalized results.\n",
    "\n",
    "It had one page with the 48 items used to calculate the RIASEC scales, on a second page takers were asked if they would be willing to complete an additional research survey. This dataset contains all those who agreed to complete the optional research survey. The only ommissions are that people who entered an age < 13 were dropped, so this data may require significant cleaning\n",
    "\n",
    "The following items were rated on a 1-5 scale of how much they would like to perform that task, with the labels 1=Dislike, 3=Neutral, 5=Enjoy.\n",
    "\n",
    "R1\tTest the quality of parts before shipment\n",
    "R2\tLay brick or tile\n",
    "R3\tWork on an offshore oil-drilling rig\n",
    "R4\tAssemble electronic parts\n",
    "R5\tOperate a grinding machine in a factory\n",
    "R6\tFix a broken faucet\n",
    "R7\tAssemble products in a factory\n",
    "R8\tInstall flooring in houses\n",
    "I1\tStudy the structure of the human body\n",
    "I2\tStudy animal behavior\n",
    "I3\tDo research on plants or animals\n",
    "I4\tDevelop a new medical treatment or procedure\n",
    "I5\tConduct biological research\n",
    "I6\tStudy whales and other types of marine life\n",
    "I7\tWork in a biology lab\n",
    "I8\tMake a map of the bottom of an ocean\n",
    "A1\tConduct a musical choir\n",
    "A2\tDirect a play\n",
    "A3\tDesign artwork for magazines\n",
    "A4\tWrite a song\n",
    "A5\tWrite books or plays\n",
    "A6\tPlay a musical instrument\n",
    "A7\tPerform stunts for a movie or television show\n",
    "A8\tDesign sets for plays\n",
    "S1\tGive career guidance to people\n",
    "S2\tDo volunteer work at a non-profit organization\n",
    "S3\tHelp people who have problems with drugs or alcohol\n",
    "S4\tTeach an individual an exercise routine\n",
    "S5\tHelp people with family-related problems\n",
    "S6\tSupervise the activities of children at a camp\n",
    "S7\tTeach children how to read\n",
    "S8\tHelp elderly people with their daily activities\n",
    "E1\tSell restaurant franchises to individuals\n",
    "E2\tSell merchandise at a department store\n",
    "E3\tManage the operations of a hotel\n",
    "E4\tOperate a beauty salon or barber shop\n",
    "E5\tManage a department within a large company\n",
    "E6\tManage a clothing store\n",
    "E7\tSell houses\n",
    "E8\tRun a toy store\n",
    "C1\tGenerate the monthly payroll checks for an office\n",
    "C2\tInventory supplies using a hand-held computer\n",
    "C3\tUse a computer program to generate customer bills\n",
    "C4\tMaintain employee records\n",
    "C5\tCompute and record statistical and other numerical data\n",
    "C6\tOperate a calculator\n",
    "C7\tHandle customers' bank transactions\n",
    "C8\tKeep shipping and receiving records\n",
    "\n",
    "These other durations were recorded (measured on the server side):\n",
    "\n",
    "introelapse\t\tThe time spent on the introduction/landing page (in seconds)\n",
    "testelapse\t\tThe time spent on all the RIASEC questions (should be equivalent to the time elapsed on all the indiviudal questions combined)\n",
    "surveyelapse\t\tThe time spent answering the supplemental demographic survey\n",
    "\n",
    "On the next page was a generic demographics survey with many different questions.\n",
    "\n",
    "The Ten Item Personality Inventory was administered (see Gosling, S. D., Rentfrow, P. J., & Swann, W. B., Jr. (2003). A Very Brief Measure of the Big Five Personality Domains. Journal of Research in Personality, 37, 504-528.):\n",
    "\n",
    "TIPI1\tExtraverted, enthusiastic.\n",
    "TIPI2\tCritical, quarrelsome.\n",
    "TIPI3\tDependable, self-disciplined.\n",
    "TIPI4\tAnxious, easily upset.\n",
    "TIPI5\tOpen to new experiences, complex.\n",
    "TIPI6\tReserved, quiet.\n",
    "TIPI7\tSympathetic, warm.\n",
    "TIPI8\tDisorganized, careless.\n",
    "TIPI9\tCalm, emotionally stable.\n",
    "TIPI10\tConventional, uncreative.\n",
    "\n",
    "The TIPI items were rated \"I see myself as:\" _____ such that\n",
    "\n",
    "1 = Disagree strongly\n",
    "2 = Disagree moderately\n",
    "3 = Disagree a little\n",
    "4 = Neither agree nor disagree\n",
    "5 = Agree a little\n",
    "6 = Agree moderately\n",
    "7 = Agree strongly\n",
    "\n",
    "\n",
    "\n",
    "The following items were presented as a check-list and subjects were instructed \"In the grid below, check all the words whose definitions you are sure you know\":\n",
    "\n",
    "VCL1\tboat\n",
    "VCL2\tincoherent\n",
    "VCL3\tpallid\n",
    "VCL4\trobot\n",
    "VCL5\taudible\n",
    "VCL6\tcuivocal\n",
    "VCL7\tpaucity\n",
    "VCL8\tepistemology\n",
    "VCL9\tflorted\n",
    "VCL10\tdecide\n",
    "VCL11\tpastiche\n",
    "VCL12\tverdid\n",
    "VCL13\tabysmal\n",
    "VCL14\tlucid\n",
    "VCL15\tbetray\n",
    "VCL16\tfunny\n",
    "\n",
    "A value of 1 is checked, 0 means unchecked. The words at VCL6, VCL9, and VCL12 are not real words and can be used as a validity check.\n",
    "\n",
    "A bunch more questions were then asked:\n",
    "\n",
    "\n",
    "education\t\t\t\"How much education have you completed?\", 1=Less than high school, 2=High school, 3=University degree, 4=Graduate degree\n",
    "urban\t\t\t\t\"What type of area did you live when you were a child?\", 1=Rural (country side), 2=Suburban, 3=Urban (town, city)\n",
    "gender\t\t\t\t\"What is your gender?\", 1=Male, 2=Female, 3=Other\n",
    "engnat\t\t\t\t\"Is English your native language?\", 1=Yes, 2=No\n",
    "age\t\t\t\t\t\"How many years old are you?\"\n",
    "hand\t\t\t\t\"What hand do you use to write with?\", 1=Right, 2=Left, 3=Both\n",
    "religion\t\t\t\"What is your religion?\", 1=Agnostic, 2=Atheist, 3=Buddhist, 4=Christian (Catholic), 5=Christian (Mormon), 6=Christian (Protestant), 7=Christian (Other), 8=Hindu, 9=Jewish, 10=Muslim, 11=Sikh, 12=Other\n",
    "orientation\t\t\t\"What is your sexual orientation?\", 1=Heterosexual, 2=Bisexual, 3=Homosexual, 4=Asexual, 5=Other\n",
    "race\t\t\t\t\"What is your race?\", 1=Asian, 2=Arab, 3=Black, 4=Indigenous Australian / Native American / White, 5=Other (There was a coding error in the survey, and three different options were given the same value)\n",
    "voted\t\t\t\t\"Have you voted in a national election in the past year?\", 1=Yes, 2=No\n",
    "married\t\t\t\t\"What is your marital status?\", 1=Never married, 2=Currently married, 3=Previously married\n",
    "familysize\t\t\t\"Including you, how many children did your mother have?\"\t\t\n",
    "major\t\t\t\t\"If you attended a university, what was your major (e.g. \"psychology\", \"English\", \"civil engineering\")?\"\n",
    "\n",
    "\n",
    "These values were also calculated for technical information:\n",
    "\n",
    "uniqueNetworkLocation\t1 if the record is the only one from its network location in the dataset, 2 if there are more than one record. There can be more than one record from the same network if for example that network is shared by a school etc, or it may be because of test retakes\n",
    "country\tThe country of the network the user connected from\n",
    "source\t1=from Google, 2=from an internal link on the website, 0=from any other website or could not be determined"
   ]
  }
 ],
 "metadata": {
  "kernelspec": {
   "display_name": "Python [conda env:for_github]",
   "language": "python",
   "name": "conda-env-for_github-py"
  }
 },
 "nbformat": 4,
 "nbformat_minor": 2
}
